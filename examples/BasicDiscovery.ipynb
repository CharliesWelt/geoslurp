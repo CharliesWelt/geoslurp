{
 "cells": [
  {
   "cell_type": "markdown",
   "metadata": {},
   "source": [
    "# Discovery techniques\n",
    "\n",
    "Querying the database can be done with anything which support attaching to a PostGreSQL database. Many interface libraries for a variety of programming languages exist, so this is in the end a user's choice.\n",
    "\n",
    "That being said, often there are queries which need to be done more often, and it pays off to build convenience functions which wrap a database query. Commonly used query wrapper are found in the [discover subdirectory](../reference/geoslurp.discover.html#module-geoslurp.discover). \n",
    "\n",
    "Below are a few examples which demonstrate the use of sqlalchemy to perform queries. They make use of the data which has been registered in [this notebook](../examples/CreateDynDSet.html#Download-and-register-a-dataset-of-(fictious?)-US-Marijuana-street-prices). The queries are encapsulated in functions which return an iteratable object which is the result of the query. This is also the same pattern as most functions in the  *discover* directory obey."
   ]
  },
  {
   "cell_type": "code",
   "execution_count": 2,
   "metadata": {},
   "outputs": [],
   "source": [
    "from geoslurp.config import setInfoLevel\n",
    "from geoslurp.db import geoslurpConnect\n",
    "setInfoLevel()\n",
    "\n",
    "gpcon=geoslurpConnect() # this will be a connection based on the readonly user"
   ]
  },
  {
   "cell_type": "markdown",
   "metadata": {},
   "source": [
    "## Query a single table and visualize the result"
   ]
  },
  {
   "cell_type": "code",
   "execution_count": 6,
   "metadata": {},
   "outputs": [],
   "source": [
    "from sqlalchemy import select,asc\n",
    "def queryState(dbcon,state):\n",
    "    \"\"\"Query the usweedprices2 table for a given state, while sorting the results according to their timestamp\"\"\"\n",
    "    #retrieve/reflect the table (note the lowercase table name)\n",
    "    tbl=dbcon.getTable('usweedprices2','public')\n",
    "\n",
    "    qry=select([tbl]).where(tbl.c.State == state).order_by(asc(tbl.c.date))\n",
    "    \n",
    "    return dbcon.dbeng.execute(qry)"
   ]
  },
  {
   "cell_type": "markdown",
   "metadata": {},
   "source": [
    "### Pick a state and plot the results using matplotlib"
   ]
  },
  {
   "cell_type": "code",
   "execution_count": 14,
   "metadata": {},
   "outputs": [
    {
     "data": {
      "text/plain": [
       "Text(0.5, 0, 'date')"
      ]
     },
     "execution_count": 14,
     "metadata": {},
     "output_type": "execute_result"
    },
    {
     "data": {
      "image/png": "[encoded data removed]",
      "text/plain": [
       "<Figure size 720x144 with 1 Axes>"
      ]
     },
     "metadata": {
      "needs_background": "light"
     },
     "output_type": "display_data"
    }
   ],
   "source": [
    "import matplotlib.pyplot as mpl\n",
    "from datetime import datetime\n",
    "\n",
    "statename=\"California\"\n",
    "\n",
    "t=[]\n",
    "medq=[]\n",
    "for entry in queryState(gpcon,statename):\n",
    "    t.append(datetime.strptime(entry.date, \"%Y-%m-%d\"))\n",
    "    medq.append(entry.MedQ)\n",
    "\n",
    "\n",
    "fig,ax=mpl.subplots(figsize=(10,2))\n",
    "ax.plot(t,medq)\n",
    "mpl.ylabel(\"USD\")\n",
    "mpl.title(\"%s MedQ Street price Marijuana\"%statename)\n",
    "mpl.xlabel(\"date\")"
   ]
  },
  {
   "cell_type": "markdown",
   "metadata": {},
   "source": [
    "## A more complicated query which joins data between tables\n",
    "Imagine you want to geographically compare the average street price in 2024 between US states, and geographically visualize this.\n",
    "\n",
    "This requires a query which computes the average per State and an inner join with a table which contains the polygons of the states."
   ]
  },
  {
   "cell_type": "code",
   "execution_count": 61,
   "metadata": {},
   "outputs": [],
   "source": [
    "from sqlalchemy.sql import join\n",
    "def queryAveragePerState(dbcon):\n",
    "    \n",
    "    #find the two relevant tables\n",
    "    usw=dbcon.getTable('usweedprices2','public')\n",
    "    stategeo=dbcon.getTable('ne_110m_admin_1_states_provinces','globalgis')\n",
    "    \n",
    "    #create a subquery with averages per state\n",
    "    subqry1=select([usw.c.State,func.avg(usw.c.MedQ).label(\"avg\")]).group_by(usw.c.State).alias(\"uswt\")\n",
    "    \n",
    "    #join the subquery with polygon data from the stategeo table\n",
    "    j=join(subqry1,stategeo,subqry1.c.State == stategeo.c.name)\n",
    "   \n",
    "    qry=select([qry1.c.State,qry1.c.avg,stategeo.c.geom]).select_from(j)\n",
    "\n",
    "    return dbcon.dbeng.execute(qry)\n",
    "\n",
    "        "
   ]
  },
  {
   "cell_type": "code",
   "execution_count": 60,
   "metadata": {},
   "outputs": [
    {
     "name": "stdout",
     "output_type": "stream",
     "text": [
      "SELECT uswt.\"State\", uswt.avg, globalgis.ne_110m_admin_1_states_provinces.geom \n",
      "FROM (SELECT public.usweedprices2.\"State\" AS \"State\", avg(public.usweedprices2.\"MedQ\") AS avg \n",
      "FROM public.usweedprices2 GROUP BY public.usweedprices2.\"State\") AS uswt JOIN globalgis.ne_110m_admin_1_states_provinces ON uswt.\"State\" = globalgis.ne_110m_admin_1_states_provinces.name\n",
      "Minnesota 275.850066815145\n",
      "Montana 248.39855233853\n",
      "North Dakota 349.066681514477\n",
      "Hawaii 268.738151447661\n",
      "Idaho 249.822427616927\n",
      "Washington 189.924988864143\n",
      "Arizona 209.365345211581\n",
      "California 191.268908685969\n",
      "Colorado 196.532516703786\n",
      "Nevada 226.217416481069\n",
      "New Mexico 209.242249443207\n",
      "Oregon 183.889866369711\n",
      "Utah 237.371893095769\n",
      "Wyoming 358.534832962139\n",
      "Arkansas 190.414654788419\n",
      "Iowa 289.9455233853\n",
      "Kansas 261.243073496659\n",
      "Missouri 244.812204899777\n",
      "Nebraska 248.160645879733\n",
      "Oklahoma 233.822004454343\n",
      "South Dakota 351.944810690423\n",
      "Alabama 204.606169265033\n",
      "Louisiana 243.117884187082\n",
      "Texas 233.536837416481\n",
      "Connecticut 271.323897550111\n",
      "Massachusetts 290.197884187083\n",
      "New Hampshire 290.107750556793\n",
      "Rhode Island 258.172293986637\n",
      "Vermont 315.547550111359\n",
      "Florida 217.882561247216\n",
      "Georgia 215.943630289532\n",
      "Mississippi 148.231603563474\n",
      "South Carolina 203.339777282851\n",
      "Illinois 284.18008908686\n",
      "Indiana 211.989510022272\n",
      "Kentucky 179.933763919822\n",
      "North Carolina 245.699220489978\n",
      "Ohio 216.953162583519\n",
      "Tennessee 225.808864142539\n",
      "Virginia 290.408084632517\n",
      "Wisconsin 271.648173719376\n",
      "West Virginia 215.883808463252\n",
      "Delaware 231.230311804009\n",
      "District of Columbia 288.251314031181\n",
      "Maryland 254.140445434298\n",
      "New Jersey 288.7270155902\n",
      "New York 265.376948775056\n",
      "Pennsylvania 267.891336302896\n",
      "Maine 248.438173719376\n",
      "Michigan 273.352338530067\n",
      "Alaska 262.046391982182\n"
     ]
    }
   ],
   "source": [
    "for entry in queryAveragePerState(gpcon):\n",
    "    print(entry.State,entry.avg)"
   ]
  }
 ],
 "metadata": {
  "kernelspec": {
   "display_name": "pyrr",
   "language": "python",
   "name": "pyrr"
  },
  "language_info": {
   "codemirror_mode": {
    "name": "ipython",
    "version": 3
   },
   "file_extension": ".py",
   "mimetype": "text/x-python",
   "name": "python",
   "nbconvert_exporter": "python",
   "pygments_lexer": "ipython3",
   "version": "3.8.1"
  }
 },
 "nbformat": 4,
 "nbformat_minor": 2
}
