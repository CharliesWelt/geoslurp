{
 "cells": [
  {
   "cell_type": "markdown",
   "metadata": {},
   "source": [
    "## Establish a database connection and retrieve the inventory and User settings\n",
    "\n",
    "Internally, geoslurp uses the python sqlalchemy tools to establish a connection with the database. The information provided is therefore similar (hostname+port, username, password). This information can be provided directly to the helper function `geoslurpConnect`, but (last used) settings can also be read from the file `.geoslurp_lastused.yaml` in the users's home. This has the advantage that possible sensitive information (logins, passwords) are not art of (public) notebooks such as these.\n",
    "\n",
    "As an additional security measure the database password can be stored using the python keyring module, so that it won't be stored as plain text in the `.geoslurp_lastused.yaml` file."
   ]
  },
  {
   "cell_type": "code",
   "execution_count": 2,
   "metadata": {},
   "outputs": [],
   "source": [
    "#Connect to a database using the settings in ${HOME}/.geoslurp_lastused.yaml\n",
    "from geoslurp.db import geoslurpConnect\n",
    "\n",
    "#connect to the database with the normal user as specified in ${HOME}/.geoslurp_lastused.yaml\n",
    "dbcon=geoslurpConnect(readonlyuser=False)\n",
    "\n",
    "#Connect to a database with the readonly user as specified in ${HOME}/.geoslurp_lastused.yaml\n",
    "dbconReadOnly=geoslurpConnect()\n",
    "\n",
    "\n"
   ]
  },
  {
   "cell_type": "code",
   "execution_count": 3,
   "metadata": {},
   "outputs": [],
   "source": [
    "#connect to a database with specific settings\n",
    "#from geoslurp.db import GeoslurpConnector\n",
    "\n",
    "#connect to a database by explicitly providing details (so without consulting ${HOME}/.geoslurp_lastused.yaml)\n",
    "\n",
    "#note this will prompt for a password\n",
    "#dbcon=GeoslurpConnector(host=\"geoslurphost\",user=\"slurpy\")\n",
    "\n",
    "#note this will NOT prompt for a password (but this is not recommended as jupyter notebooks will the contain your password)\n",
    "#dbcon=GeoslurpConnector(host=\"geoslurphost\",user=\"slurpy\",passwd=\"suprersecretpassword\")\n",
    "\n"
   ]
  },
  {
   "cell_type": "code",
   "execution_count": 3,
   "metadata": {},
   "outputs": [
    {
     "name": "stdout",
     "output_type": "stream",
     "text": [
      "globalgis gshhs_c None roelof 2019-02-27 09:47:02.441119 (0, 0, 0) None None {'GSHHGversion': [2, 3, 7]}\n"
     ]
    }
   ],
   "source": [
    "from geoslurp.db import Inventory\n",
    "\n",
    "#the Inventory class wraps the postgresql table in admin.inventory and can be iterated over \n",
    "inventory=Inventory(dbcon)\n",
    "\n",
    "entry=inventory[\"globalgis.gshhs_c\"]\n",
    "print(entry.scheme, entry.dataset, entry.pgfunc,entry.owner,entry.lastupdate,entry.version,entry.cache,entry.datadir,entry.data)\n",
    "\n",
    "#one can also iterate over the inventory and list the column values\n",
    "# for entry in inventory:\n",
    "#     print(entry.scheme, entry.dataset, entry.pgfunc,entry.owner,entry.lastupdate,entry.version,entry.cache,entry.datadir,entry.data)\n",
    "\n"
   ]
  },
  {
   "cell_type": "code",
   "execution_count": null,
   "metadata": {},
   "outputs": [],
   "source": [
    "#Similarly the database-side settings, so not the settings from .geoslurp_lastused.yaml, of a certain user can be obtained by getting the Settings\n"
   ]
  }
 ],
 "metadata": {
  "kernelspec": {
   "display_name": "pyrr",
   "language": "python",
   "name": "pyrr"
  },
  "language_info": {
   "codemirror_mode": {
    "name": "ipython",
    "version": 3
   },
   "file_extension": ".py",
   "mimetype": "text/x-python",
   "name": "python",
   "nbconvert_exporter": "python",
   "pygments_lexer": "ipython3",
   "version": "3.8.1"
  }
 },
 "nbformat": 4,
 "nbformat_minor": 4
}
